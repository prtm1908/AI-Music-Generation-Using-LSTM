{
 "cells": [
  {
   "cell_type": "code",
   "execution_count": 1,
   "metadata": {},
   "outputs": [],
   "source": [
    "from music21 import converter, instrument, note, chord, stream\n",
    "import glob\n",
    "import pickle\n",
    "import numpy as np\n",
    "from keras.utils import to_categorical"
   ]
  },
  {
   "cell_type": "code",
   "execution_count": 2,
   "metadata": {},
   "outputs": [
    {
     "name": "stdout",
     "output_type": "stream",
     "text": [
      "processing song no:  0\n",
      "processing song no:  1\n",
      "processing song no:  2\n",
      "processing song no:  3\n",
      "processing song no:  4\n",
      "processing song no:  5\n",
      "processing song no:  6\n",
      "processing song no:  7\n",
      "processing song no:  8\n",
      "processing song no:  9\n",
      "processing song no:  10\n",
      "processing song no:  11\n",
      "processing song no:  12\n",
      "processing song no:  13\n",
      "processing song no:  14\n",
      "processing song no:  15\n",
      "processing song no:  16\n",
      "processing song no:  17\n",
      "processing song no:  18\n",
      "processing song no:  19\n",
      "processing song no:  20\n",
      "processing song no:  21\n",
      "processing song no:  22\n",
      "processing song no:  23\n",
      "processing song no:  24\n",
      "processing song no:  25\n",
      "processing song no:  26\n",
      "processing song no:  27\n",
      "processing song no:  28\n",
      "processing song no:  29\n",
      "processing song no:  30\n",
      "processing song no:  31\n",
      "processing song no:  32\n",
      "processing song no:  33\n",
      "processing song no:  34\n",
      "processing song no:  35\n",
      "processing song no:  36\n",
      "processing song no:  37\n",
      "processing song no:  38\n",
      "processing song no:  39\n",
      "processing song no:  40\n",
      "processing song no:  41\n",
      "processing song no:  42\n",
      "processing song no:  43\n",
      "processing song no:  44\n",
      "processing song no:  45\n",
      "processing song no:  46\n",
      "processing song no:  47\n",
      "processing song no:  48\n",
      "processing song no:  49\n",
      "processing song no:  50\n",
      "processing song no:  51\n",
      "processing song no:  52\n",
      "processing song no:  53\n",
      "processing song no:  54\n",
      "processing song no:  55\n",
      "processing song no:  56\n",
      "processing song no:  57\n",
      "processing song no:  58\n",
      "processing song no:  59\n",
      "processing song no:  60\n",
      "processing song no:  61\n",
      "processing song no:  62\n",
      "processing song no:  63\n",
      "processing song no:  64\n",
      "processing song no:  65\n",
      "processing song no:  66\n",
      "processing song no:  67\n",
      "processing song no:  68\n",
      "processing song no:  69\n",
      "processing song no:  70\n",
      "processing song no:  71\n",
      "processing song no:  72\n",
      "processing song no:  73\n",
      "processing song no:  74\n",
      "processing song no:  75\n",
      "processing song no:  76\n",
      "processing song no:  77\n",
      "processing song no:  78\n",
      "processing song no:  79\n",
      "processing song no:  80\n",
      "processing song no:  81\n",
      "processing song no:  82\n",
      "processing song no:  83\n",
      "processing song no:  84\n",
      "processing song no:  85\n",
      "processing song no:  86\n",
      "processing song no:  87\n",
      "processing song no:  88\n",
      "processing song no:  89\n",
      "processing song no:  90\n",
      "processing song no:  91\n"
     ]
    }
   ],
   "source": [
    "notes = []\n",
    "counter = 0\n",
    "for file in glob.glob(\"midi_songs/*.mid\"):\n",
    "    print('processing song no: ',counter)\n",
    "    counter = counter + 1\n",
    "    midi = converter.parse(file)\n",
    "    notes_to_parse = None\n",
    "    parts = instrument.partitionByInstrument(midi)\n",
    "    if parts: # file has instrument parts\n",
    "        notes_to_parse = parts.parts[0].recurse()\n",
    "    else: # file has notes in a flat structure\n",
    "        notes_to_parse = midi.flat.notes\n",
    "    for element in notes_to_parse:\n",
    "        if isinstance(element, note.Note):\n",
    "            notes.append(str(element.pitch))\n",
    "        elif isinstance(element, chord.Chord):\n",
    "            notes.append('+'.join(str(n) for n in element.normalOrder))"
   ]
  },
  {
   "cell_type": "code",
   "execution_count": 3,
   "metadata": {},
   "outputs": [],
   "source": [
    "n_vocab=len(set(notes))"
   ]
  },
  {
   "cell_type": "code",
   "execution_count": 4,
   "metadata": {},
   "outputs": [
    {
     "name": "stdout",
     "output_type": "stream",
     "text": [
      "Total notes -  45972\n",
      "Unique notes -  326\n"
     ]
    }
   ],
   "source": [
    "print('Total notes - ',len(notes))\n",
    "print('Unique notes - ',len(set(notes)))"
   ]
  },
  {
   "cell_type": "code",
   "execution_count": 5,
   "metadata": {},
   "outputs": [
    {
     "name": "stdout",
     "output_type": "stream",
     "text": [
      "['F3', 'F2', 'F2', 'F2', 'F2', 'F2', '4+9', 'E5', '4+9', 'C5', '4+9', 'A5', '4+9', '5+9', 'F5', '5+9', 'C5', '5+9', 'A5', '5+9', '4+9', 'E5', '4+9', 'C5', '4+9', 'A5', '4+9', 'F5', '5+9', 'C5', '5+9', 'E5', '5+9', 'D5', '5+9', 'E5', '4+9', 'E-5', '4+9', 'B5', '4+9', '4+9', 'A5', '5+9', '5+9', '5+9', '5+9', 'A5', '4+9', '4+9', '4+9', '4+9', '5+9', '5+9', '5+9', '5+9', 'B4', '4+9', 'A4', '4+9', 'E5', '4+9', '4+9', 'E-5', '5+9', '5+9', '5+9', '5+9', 'E-5', '4+9', '4+9', '4+9', '4+9', '5+9', '5+9', '5+9', '5+9', 'E5', '4', 'E-5', 'C6', 'E5', '5', 'E-5', 'B5', 'E5', '6', 'E-5', 'C6', 'A5', '5', 'A4', '4', 'C5', 'E5', 'F5', 'E5', '5', 'C5', 'A4']\n"
     ]
    }
   ],
   "source": [
    "print(notes[100:200])"
   ]
  },
  {
   "cell_type": "code",
   "execution_count": 6,
   "metadata": {},
   "outputs": [],
   "source": [
    "sequence_length=100"
   ]
  },
  {
   "cell_type": "code",
   "execution_count": 7,
   "metadata": {},
   "outputs": [],
   "source": [
    "pitchnames=sorted(set(notes))"
   ]
  },
  {
   "cell_type": "code",
   "execution_count": 8,
   "metadata": {},
   "outputs": [],
   "source": [
    "ele_to_int=dict((ele,num) for num,ele in enumerate(pitchnames))"
   ]
  },
  {
   "cell_type": "code",
   "execution_count": 9,
   "metadata": {},
   "outputs": [],
   "source": [
    "network_input=[]\n",
    "network_output=[]"
   ]
  },
  {
   "cell_type": "code",
   "execution_count": 10,
   "metadata": {},
   "outputs": [],
   "source": [
    "for i in range(len(notes) - sequence_length):\n",
    "    seq_in = notes[i : i+sequence_length] # contains 100 values\n",
    "    seq_out = notes[i + sequence_length]\n",
    "    \n",
    "    network_input.append([ele_to_int[ch] for ch in seq_in])\n",
    "    network_output.append(ele_to_int[seq_out])"
   ]
  },
  {
   "cell_type": "code",
   "execution_count": 11,
   "metadata": {},
   "outputs": [
    {
     "name": "stdout",
     "output_type": "stream",
     "text": [
      "45872\n"
     ]
    }
   ],
   "source": [
    "n_patterns=len(network_input)\n",
    "print(n_patterns)"
   ]
  },
  {
   "cell_type": "code",
   "execution_count": 12,
   "metadata": {},
   "outputs": [
    {
     "name": "stdout",
     "output_type": "stream",
     "text": [
      "(45872, 100, 1)\n"
     ]
    }
   ],
   "source": [
    "network_input=np.reshape(network_input,(n_patterns,sequence_length,1))\n",
    "print(network_input.shape)"
   ]
  },
  {
   "cell_type": "code",
   "execution_count": 13,
   "metadata": {},
   "outputs": [],
   "source": [
    "normalised_network_input=network_input/float(n_vocab)"
   ]
  },
  {
   "cell_type": "code",
   "execution_count": 14,
   "metadata": {},
   "outputs": [],
   "source": [
    "network_output=to_categorical(network_output)"
   ]
  },
  {
   "cell_type": "code",
   "execution_count": 15,
   "metadata": {},
   "outputs": [
    {
     "data": {
      "text/plain": [
       "(45872, 326)"
      ]
     },
     "execution_count": 15,
     "metadata": {},
     "output_type": "execute_result"
    }
   ],
   "source": [
    "network_output.shape"
   ]
  },
  {
   "cell_type": "code",
   "execution_count": 16,
   "metadata": {},
   "outputs": [
    {
     "name": "stdout",
     "output_type": "stream",
     "text": [
      "(45872, 100, 1)\n",
      "(45872, 326)\n"
     ]
    }
   ],
   "source": [
    "print(network_input.shape)\n",
    "print(network_output.shape)"
   ]
  },
  {
   "cell_type": "code",
   "execution_count": 17,
   "metadata": {},
   "outputs": [],
   "source": [
    "from keras.models import Sequential \n",
    "from keras.layers import *\n",
    "from keras.callbacks import ModelCheckpoint, EarlyStopping"
   ]
  },
  {
   "cell_type": "code",
   "execution_count": 18,
   "metadata": {},
   "outputs": [],
   "source": [
    "model=Sequential()\n",
    "model.add(LSTM(units=512,input_shape=(normalised_network_input.shape[1],normalised_network_input.shape[2]),return_sequences=True))\n",
    "model.add(Dropout(0.3))\n",
    "model.add(LSTM(512,return_sequences=True))\n",
    "model.add(Dropout(0.3))\n",
    "model.add(LSTM(512))\n",
    "model.add(Dense(256))\n",
    "model.add(Dropout(0.3))\n",
    "model.add(Dense(n_vocab,activation='softmax'))"
   ]
  },
  {
   "cell_type": "code",
   "execution_count": 19,
   "metadata": {},
   "outputs": [],
   "source": [
    "model.compile(loss='categorical_crossentropy',optimizer='rmsprop')"
   ]
  },
  {
   "cell_type": "code",
   "execution_count": 20,
   "metadata": {},
   "outputs": [
    {
     "name": "stdout",
     "output_type": "stream",
     "text": [
      "Model: \"sequential\"\n",
      "_________________________________________________________________\n",
      " Layer (type)                Output Shape              Param #   \n",
      "=================================================================\n",
      " lstm (LSTM)                 (None, 100, 512)          1052672   \n",
      "                                                                 \n",
      " dropout (Dropout)           (None, 100, 512)          0         \n",
      "                                                                 \n",
      " lstm_1 (LSTM)               (None, 100, 512)          2099200   \n",
      "                                                                 \n",
      " dropout_1 (Dropout)         (None, 100, 512)          0         \n",
      "                                                                 \n",
      " lstm_2 (LSTM)               (None, 512)               2099200   \n",
      "                                                                 \n",
      " dense (Dense)               (None, 256)               131328    \n",
      "                                                                 \n",
      " dropout_2 (Dropout)         (None, 256)               0         \n",
      "                                                                 \n",
      " dense_1 (Dense)             (None, 326)               83782     \n",
      "                                                                 \n",
      "=================================================================\n",
      "Total params: 5,466,182\n",
      "Trainable params: 5,466,182\n",
      "Non-trainable params: 0\n",
      "_________________________________________________________________\n"
     ]
    }
   ],
   "source": [
    "model.summary()"
   ]
  },
  {
   "cell_type": "code",
   "execution_count": 21,
   "metadata": {},
   "outputs": [],
   "source": [
    "# filepath = \"model_weights/weights-improvement-{epoch:02d}-{loss:.4f}-bigger.hdf5\"    \n",
    "# checkpoint = ModelCheckpoint(\n",
    "#     filepath, monitor='loss', \n",
    "#     verbose=0,        \n",
    "#     save_best_only=True,        \n",
    "#     mode='min'\n",
    "# )    \n",
    "# callbacks_list = [checkpoint]     \n",
    "# hist=model.fit(normalised_network_input, network_output, epochs=100, batch_size=512, callbacks=callbacks_list)"
   ]
  },
  {
   "cell_type": "code",
   "execution_count": 23,
   "metadata": {},
   "outputs": [],
   "source": [
    "from keras.models import load_model\n",
    "\n",
    "model=load_model('model_weights/weights-improvement-50-0.1883-bigger.hdf5')"
   ]
  },
  {
   "cell_type": "code",
   "execution_count": 24,
   "metadata": {},
   "outputs": [],
   "source": [
    "sequence_length=100\n",
    "network_input=[]\n",
    "for i in range(len(notes) - sequence_length):\n",
    "    seq_in=notes[i:i+sequence_length]\n",
    "    network_input.append([ele_to_int[ch] for ch in seq_in])"
   ]
  },
  {
   "cell_type": "code",
   "execution_count": 25,
   "metadata": {},
   "outputs": [],
   "source": [
    "start=np.random.randint(len(network_input) - 1)\n",
    "\n",
    "int_to_ele=dict((num,ele) for num,ele in enumerate(pitchnames))\n",
    "\n",
    "pattern=network_input[start]\n",
    "prediction_output=[]\n",
    "\n",
    "for note_index in range(200):\n",
    "    prediction_input=np.reshape(pattern,(1,len(pattern),1))\n",
    "    prediction_input=prediction_input/float(n_vocab)\n",
    "\n",
    "    prediction=model.predict(prediction_input,verbose=0)\n",
    "\n",
    "    idx=np.argmax(prediction)\n",
    "    result=int_to_ele[idx]\n",
    "    prediction_output.append(result)\n",
    "\n",
    "    pattern.append(idx)\n",
    "    pattern=pattern[1:]"
   ]
  },
  {
   "cell_type": "code",
   "execution_count": 26,
   "metadata": {},
   "outputs": [
    {
     "name": "stdout",
     "output_type": "stream",
     "text": [
      "['G2', 'G2', 'F4', 'F#4', 'G4', 'G2', 'B-4', 'G4', 'C3', 'E3', 'C3', 'C3', 'G4', 'E2', 'A4', 'F2', 'B-4', 'F#2', 'B-4', 'B-4', 'G2', 'F3', 'A4', 'B-4', 'C5', 'G2', 'D5', 'G2', 'F5', 'E5', 'G2', 'C3', 'E3', 'C3', 'C3', 'G2', 'F2', 'F2', 'F2', 'F2', 'B-2', 'B-4', 'E5', 'B-2', 'B-2', 'E5', 'B-2', 'F2', 'D5', '9+0', 'E5', 'B-4', 'F2', '9+0', 'F2', '9+0', 'F2', 'B-2', 'B-2', 'B-2', 'B-2', 'G2', 'G2', 'G2', 'G2', 'A2', 'A2', 'D5', 'A2', 'A4', 'F4', 'A2', 'G2', 'G5', 'F5', 'G2', '9+0', 'E5', 'G2', '9+0', 'G2', 'A2', '9+0', 'A2', 'D5', 'A4', 'F4', 'E5', 'F5', '11+2', 'F#5', '11+2', '11+2', 'C#5', 'A4', 'G4', 'E4', 'A5', 'G5', '11+2', 'F#5', '11+2', '11+2', 'C#5', 'A4', 'G4', 'E4', '0+4', '9', 'C5', 'E3', 'B4', 'A3', 'C5', 'C4', '4+9', 'C4', 'C4', 'E4', 'A3', '9', '11+3', '9', 'F#4', 'F#3', 'B4', 'B3', 'E-4', 'F#4', 'E-4', 'F#4', 'B3', 'B4', 'F#3', 'D5', '9', 'B-4', 'F3', 'A4', 'B-3', 'B-4', 'D4', 'F5', 'F4', 'D4', 'D4', 'B-3', 'A2', '1+4', '9', 'E4', 'E3', 'A4', 'A3', 'C#4', 'E4', 'C#4', 'A3', 'E3', '0+4', '9', 'C5', 'E3', 'B4', 'A3', 'C5', 'C4', '4+9', 'C4', 'C4', 'E4', 'A3', '9', '11+3', '9', 'F#4', 'F#3', 'B4', 'B3', 'E-4', 'F#4', 'E-4', 'F#4', 'B3', 'B4', 'F#3', 'D5', '9', 'B-4', 'F3', 'A4', 'B-3', 'B-4', 'D4', 'F5', 'F4', 'D4', 'D4', 'B-3', 'A2']\n"
     ]
    }
   ],
   "source": [
    "print(prediction_output)"
   ]
  },
  {
   "cell_type": "code",
   "execution_count": 27,
   "metadata": {},
   "outputs": [],
   "source": [
    "offset=0\n",
    "output_notes=[]\n",
    "\n",
    "for pattern in prediction_output:\n",
    "\n",
    "    if('+' in pattern) or pattern.isdigit():\n",
    "        notes_in_chord = pattern.split(\"+\")\n",
    "        temp_notes=[]\n",
    "        for current_note in notes_in_chord:\n",
    "            new_note=note.Note(int(current_note))\n",
    "            new_note.storedInstrument=instrument.Piano()\n",
    "            temp_notes.append(new_note)\n",
    "\n",
    "        new_chord=chord.Chord(temp_notes)\n",
    "        new_chord.offset=offset\n",
    "        output_notes.append(new_chord)\n",
    "\n",
    "    else:\n",
    "        new_note=note.Note(pattern)\n",
    "        new_note.offset=offset\n",
    "        new_note.storedInstrument=instrument.Piano()\n",
    "        output_notes.append(new_note)\n",
    "\n",
    "    offset+=0.5"
   ]
  },
  {
   "cell_type": "code",
   "execution_count": 28,
   "metadata": {},
   "outputs": [
    {
     "data": {
      "text/plain": [
       "[<music21.note.Note G>,\n",
       " <music21.note.Note G>,\n",
       " <music21.note.Note F>,\n",
       " <music21.note.Note F#>,\n",
       " <music21.note.Note G>,\n",
       " <music21.note.Note G>,\n",
       " <music21.note.Note B->,\n",
       " <music21.note.Note G>,\n",
       " <music21.note.Note C>,\n",
       " <music21.note.Note E>,\n",
       " <music21.note.Note C>,\n",
       " <music21.note.Note C>,\n",
       " <music21.note.Note G>,\n",
       " <music21.note.Note E>,\n",
       " <music21.note.Note A>,\n",
       " <music21.note.Note F>,\n",
       " <music21.note.Note B->,\n",
       " <music21.note.Note F#>,\n",
       " <music21.note.Note B->,\n",
       " <music21.note.Note B->,\n",
       " <music21.note.Note G>,\n",
       " <music21.note.Note F>,\n",
       " <music21.note.Note A>,\n",
       " <music21.note.Note B->,\n",
       " <music21.note.Note C>,\n",
       " <music21.note.Note G>,\n",
       " <music21.note.Note D>,\n",
       " <music21.note.Note G>,\n",
       " <music21.note.Note F>,\n",
       " <music21.note.Note E>,\n",
       " <music21.note.Note G>,\n",
       " <music21.note.Note C>,\n",
       " <music21.note.Note E>,\n",
       " <music21.note.Note C>,\n",
       " <music21.note.Note C>,\n",
       " <music21.note.Note G>,\n",
       " <music21.note.Note F>,\n",
       " <music21.note.Note F>,\n",
       " <music21.note.Note F>,\n",
       " <music21.note.Note F>,\n",
       " <music21.note.Note B->,\n",
       " <music21.note.Note B->,\n",
       " <music21.note.Note E>,\n",
       " <music21.note.Note B->,\n",
       " <music21.note.Note B->,\n",
       " <music21.note.Note E>,\n",
       " <music21.note.Note B->,\n",
       " <music21.note.Note F>,\n",
       " <music21.note.Note D>,\n",
       " <music21.chord.Chord A C>,\n",
       " <music21.note.Note E>,\n",
       " <music21.note.Note B->,\n",
       " <music21.note.Note F>,\n",
       " <music21.chord.Chord A C>,\n",
       " <music21.note.Note F>,\n",
       " <music21.chord.Chord A C>,\n",
       " <music21.note.Note F>,\n",
       " <music21.note.Note B->,\n",
       " <music21.note.Note B->,\n",
       " <music21.note.Note B->,\n",
       " <music21.note.Note B->,\n",
       " <music21.note.Note G>,\n",
       " <music21.note.Note G>,\n",
       " <music21.note.Note G>,\n",
       " <music21.note.Note G>,\n",
       " <music21.note.Note A>,\n",
       " <music21.note.Note A>,\n",
       " <music21.note.Note D>,\n",
       " <music21.note.Note A>,\n",
       " <music21.note.Note A>,\n",
       " <music21.note.Note F>,\n",
       " <music21.note.Note A>,\n",
       " <music21.note.Note G>,\n",
       " <music21.note.Note G>,\n",
       " <music21.note.Note F>,\n",
       " <music21.note.Note G>,\n",
       " <music21.chord.Chord A C>,\n",
       " <music21.note.Note E>,\n",
       " <music21.note.Note G>,\n",
       " <music21.chord.Chord A C>,\n",
       " <music21.note.Note G>,\n",
       " <music21.note.Note A>,\n",
       " <music21.chord.Chord A C>,\n",
       " <music21.note.Note A>,\n",
       " <music21.note.Note D>,\n",
       " <music21.note.Note A>,\n",
       " <music21.note.Note F>,\n",
       " <music21.note.Note E>,\n",
       " <music21.note.Note F>,\n",
       " <music21.chord.Chord B D>,\n",
       " <music21.note.Note F#>,\n",
       " <music21.chord.Chord B D>,\n",
       " <music21.chord.Chord B D>,\n",
       " <music21.note.Note C#>,\n",
       " <music21.note.Note A>,\n",
       " <music21.note.Note G>,\n",
       " <music21.note.Note E>,\n",
       " <music21.note.Note A>,\n",
       " <music21.note.Note G>,\n",
       " <music21.chord.Chord B D>,\n",
       " <music21.note.Note F#>,\n",
       " <music21.chord.Chord B D>,\n",
       " <music21.chord.Chord B D>,\n",
       " <music21.note.Note C#>,\n",
       " <music21.note.Note A>,\n",
       " <music21.note.Note G>,\n",
       " <music21.note.Note E>,\n",
       " <music21.chord.Chord C E>,\n",
       " <music21.chord.Chord A>,\n",
       " <music21.note.Note C>,\n",
       " <music21.note.Note E>,\n",
       " <music21.note.Note B>,\n",
       " <music21.note.Note A>,\n",
       " <music21.note.Note C>,\n",
       " <music21.note.Note C>,\n",
       " <music21.chord.Chord E A>,\n",
       " <music21.note.Note C>,\n",
       " <music21.note.Note C>,\n",
       " <music21.note.Note E>,\n",
       " <music21.note.Note A>,\n",
       " <music21.chord.Chord A>,\n",
       " <music21.chord.Chord B E->,\n",
       " <music21.chord.Chord A>,\n",
       " <music21.note.Note F#>,\n",
       " <music21.note.Note F#>,\n",
       " <music21.note.Note B>,\n",
       " <music21.note.Note B>,\n",
       " <music21.note.Note E->,\n",
       " <music21.note.Note F#>,\n",
       " <music21.note.Note E->,\n",
       " <music21.note.Note F#>,\n",
       " <music21.note.Note B>,\n",
       " <music21.note.Note B>,\n",
       " <music21.note.Note F#>,\n",
       " <music21.note.Note D>,\n",
       " <music21.chord.Chord A>,\n",
       " <music21.note.Note B->,\n",
       " <music21.note.Note F>,\n",
       " <music21.note.Note A>,\n",
       " <music21.note.Note B->,\n",
       " <music21.note.Note B->,\n",
       " <music21.note.Note D>,\n",
       " <music21.note.Note F>,\n",
       " <music21.note.Note F>,\n",
       " <music21.note.Note D>,\n",
       " <music21.note.Note D>,\n",
       " <music21.note.Note B->,\n",
       " <music21.note.Note A>,\n",
       " <music21.chord.Chord C# E>,\n",
       " <music21.chord.Chord A>,\n",
       " <music21.note.Note E>,\n",
       " <music21.note.Note E>,\n",
       " <music21.note.Note A>,\n",
       " <music21.note.Note A>,\n",
       " <music21.note.Note C#>,\n",
       " <music21.note.Note E>,\n",
       " <music21.note.Note C#>,\n",
       " <music21.note.Note A>,\n",
       " <music21.note.Note E>,\n",
       " <music21.chord.Chord C E>,\n",
       " <music21.chord.Chord A>,\n",
       " <music21.note.Note C>,\n",
       " <music21.note.Note E>,\n",
       " <music21.note.Note B>,\n",
       " <music21.note.Note A>,\n",
       " <music21.note.Note C>,\n",
       " <music21.note.Note C>,\n",
       " <music21.chord.Chord E A>,\n",
       " <music21.note.Note C>,\n",
       " <music21.note.Note C>,\n",
       " <music21.note.Note E>,\n",
       " <music21.note.Note A>,\n",
       " <music21.chord.Chord A>,\n",
       " <music21.chord.Chord B E->,\n",
       " <music21.chord.Chord A>,\n",
       " <music21.note.Note F#>,\n",
       " <music21.note.Note F#>,\n",
       " <music21.note.Note B>,\n",
       " <music21.note.Note B>,\n",
       " <music21.note.Note E->,\n",
       " <music21.note.Note F#>,\n",
       " <music21.note.Note E->,\n",
       " <music21.note.Note F#>,\n",
       " <music21.note.Note B>,\n",
       " <music21.note.Note B>,\n",
       " <music21.note.Note F#>,\n",
       " <music21.note.Note D>,\n",
       " <music21.chord.Chord A>,\n",
       " <music21.note.Note B->,\n",
       " <music21.note.Note F>,\n",
       " <music21.note.Note A>,\n",
       " <music21.note.Note B->,\n",
       " <music21.note.Note B->,\n",
       " <music21.note.Note D>,\n",
       " <music21.note.Note F>,\n",
       " <music21.note.Note F>,\n",
       " <music21.note.Note D>,\n",
       " <music21.note.Note D>,\n",
       " <music21.note.Note B->,\n",
       " <music21.note.Note A>]"
      ]
     },
     "execution_count": 28,
     "metadata": {},
     "output_type": "execute_result"
    }
   ],
   "source": [
    "output_notes"
   ]
  },
  {
   "cell_type": "code",
   "execution_count": 29,
   "metadata": {},
   "outputs": [
    {
     "data": {
      "text/plain": [
       "'test_output.mid'"
      ]
     },
     "execution_count": 29,
     "metadata": {},
     "output_type": "execute_result"
    }
   ],
   "source": [
    "midi_stream=stream.Stream(output_notes)\n",
    "midi_stream.write('midi',fp='test_output.mid')"
   ]
  },
  {
   "cell_type": "code",
   "execution_count": 30,
   "metadata": {},
   "outputs": [
    {
     "data": {
      "text/html": [
       "\n",
       "                <div id=\"midiPlayerDiv286904\"></div>\n",
       "                <link rel=\"stylesheet\" href=\"https://cuthbertLab.github.io/music21j/css/m21.css\">\n",
       "                \n",
       "                <script>\n",
       "                require.config({\n",
       "                    paths: {\n",
       "                        'music21': 'https://cuthbertLab.github.io/music21j/releases/music21.debug',\n",
       "                    }\n",
       "                });\n",
       "                require(['music21'], function(music21) {\n",
       "                    mp = new music21.miditools.MidiPlayer();\n",
       "                    mp.addPlayer(\"#midiPlayerDiv286904\");\n",
       "                    mp.base64Load(\"data:audio/midi;base64,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\");\n",
       "                });\n",
       "                </script>"
      ],
      "text/plain": [
       "<IPython.core.display.HTML object>"
      ]
     },
     "metadata": {},
     "output_type": "display_data"
    }
   ],
   "source": [
    "midi_stream.show('midi')"
   ]
  }
 ],
 "metadata": {
  "kernelspec": {
   "display_name": "base",
   "language": "python",
   "name": "python3"
  },
  "language_info": {
   "codemirror_mode": {
    "name": "ipython",
    "version": 3
   },
   "file_extension": ".py",
   "mimetype": "text/x-python",
   "name": "python",
   "nbconvert_exporter": "python",
   "pygments_lexer": "ipython3",
   "version": "3.9.17"
  },
  "orig_nbformat": 4
 },
 "nbformat": 4,
 "nbformat_minor": 2
}
